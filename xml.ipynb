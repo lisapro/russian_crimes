{
 "cells": [
  {
   "cell_type": "code",
   "execution_count": 1,
   "metadata": {},
   "outputs": [],
   "source": [
    "# Data source http://crimestat.ru/opendata \n",
    "file = r'Всего зарегистрировано преступлений.xml'"
   ]
  },
  {
   "cell_type": "code",
   "execution_count": 2,
   "metadata": {},
   "outputs": [],
   "source": [
    "import xml.etree.ElementTree as ET\n",
    "import pandas as pd"
   ]
  },
  {
   "cell_type": "code",
   "execution_count": 3,
   "metadata": {},
   "outputs": [],
   "source": [
    "#Data Structure\n",
    "#<data>\n",
    "#    <indicatorData name=\"Всего зарегистрировано преступлений\">\n",
    "#        <row>\n",
    "#            <value>971</value>\n",
    "#            <report_period_begin>2009-01-01</report_period_begin>\n",
    "#            <region_name>Ненецкий АО</region_name>\n",
    "#            <report_period_end>2009-12-01</report_period_end>\n",
    "#        </row>"
   ]
  },
  {
   "cell_type": "code",
   "execution_count": 4,
   "metadata": {},
   "outputs": [],
   "source": [
    "xtree = ET.parse(file)\n",
    "xroot = xtree.getroot()"
   ]
  },
  {
   "cell_type": "code",
   "execution_count": 168,
   "metadata": {},
   "outputs": [
    {
     "name": "stdout",
     "output_type": "stream",
     "text": [
      "indicatorData dd {'name': 'Всего зарегистрировано преступлений'}\n"
     ]
    }
   ],
   "source": [
    "for child in xroot:\n",
    "    print (child.tag,'dd', child.attrib)"
   ]
  },
  {
   "cell_type": "code",
   "execution_count": 170,
   "metadata": {},
   "outputs": [
    {
     "data": {
      "text/plain": [
       "'indicatorData'"
      ]
     },
     "execution_count": 170,
     "metadata": {},
     "output_type": "execute_result"
    }
   ],
   "source": [
    "xroot[0].tag"
   ]
  },
  {
   "cell_type": "code",
   "execution_count": 185,
   "metadata": {},
   "outputs": [
    {
     "data": {
      "text/plain": [
       "'row'"
      ]
     },
     "execution_count": 185,
     "metadata": {},
     "output_type": "execute_result"
    }
   ],
   "source": [
    "# Find level of row\n",
    "xroot[0][0].tag"
   ]
  },
  {
   "cell_type": "code",
   "execution_count": 186,
   "metadata": {},
   "outputs": [
    {
     "name": "stdout",
     "output_type": "stream",
     "text": [
      "value\n",
      "report_period_begin\n",
      "region_name\n",
      "report_period_end\n"
     ]
    }
   ],
   "source": [
    "# Get the list of all available parameters\n",
    "for n in xroot[0][0]:\n",
    "    print (n.tag)"
   ]
  },
  {
   "cell_type": "code",
   "execution_count": 172,
   "metadata": {},
   "outputs": [],
   "source": [
    "# Loop over rows and put data into a dictionary\n",
    "rows = []\n",
    "for row in xroot[0]:\n",
    "    value = row.find(\"value\").text\n",
    "    report_period_begin = row.find(\"report_period_begin\").text\n",
    "    region_name  = row.find(\"region_name\").text\n",
    "    report_period_end = row.find('report_period_end').text\n",
    "    \n",
    "    rows.append({\"value\": value, \"report_period_begin\": report_period_begin, \n",
    "                 \"region_name\": region_name, \"report_period_end\": report_period_end})"
   ]
  },
  {
   "cell_type": "code",
   "execution_count": 173,
   "metadata": {},
   "outputs": [],
   "source": [
    "# Convert dictionary into a dataframe\n",
    "df_cols = [\"value\", \"report_period_begin\", \"region_name\", \"report_period_end\"]\n",
    "out_df = pd.DataFrame(rows, columns = df_cols)"
   ]
  },
  {
   "cell_type": "code",
   "execution_count": 174,
   "metadata": {},
   "outputs": [
    {
     "data": {
      "text/html": [
       "<div>\n",
       "<style scoped>\n",
       "    .dataframe tbody tr th:only-of-type {\n",
       "        vertical-align: middle;\n",
       "    }\n",
       "\n",
       "    .dataframe tbody tr th {\n",
       "        vertical-align: top;\n",
       "    }\n",
       "\n",
       "    .dataframe thead th {\n",
       "        text-align: right;\n",
       "    }\n",
       "</style>\n",
       "<table border=\"1\" class=\"dataframe\">\n",
       "  <thead>\n",
       "    <tr style=\"text-align: right;\">\n",
       "      <th></th>\n",
       "      <th>value</th>\n",
       "      <th>report_period_begin</th>\n",
       "      <th>region_name</th>\n",
       "      <th>report_period_end</th>\n",
       "    </tr>\n",
       "  </thead>\n",
       "  <tbody>\n",
       "    <tr>\n",
       "      <th>0</th>\n",
       "      <td>971</td>\n",
       "      <td>2009-01-01</td>\n",
       "      <td>Ненецкий АО</td>\n",
       "      <td>2009-12-01</td>\n",
       "    </tr>\n",
       "    <tr>\n",
       "      <th>1</th>\n",
       "      <td>37372</td>\n",
       "      <td>2009-01-01</td>\n",
       "      <td>Ханты-Мансийский АО</td>\n",
       "      <td>2009-12-01</td>\n",
       "    </tr>\n",
       "    <tr>\n",
       "      <th>2</th>\n",
       "      <td>10052</td>\n",
       "      <td>2009-01-01</td>\n",
       "      <td>Ямало-Ненецкий АО</td>\n",
       "      <td>2009-12-01</td>\n",
       "    </tr>\n",
       "    <tr>\n",
       "      <th>3</th>\n",
       "      <td>25750</td>\n",
       "      <td>2009-01-01</td>\n",
       "      <td>Архангельская область</td>\n",
       "      <td>2009-12-01</td>\n",
       "    </tr>\n",
       "    <tr>\n",
       "      <th>4</th>\n",
       "      <td>40325</td>\n",
       "      <td>2009-01-01</td>\n",
       "      <td>Тюменская область</td>\n",
       "      <td>2009-12-01</td>\n",
       "    </tr>\n",
       "  </tbody>\n",
       "</table>\n",
       "</div>"
      ],
      "text/plain": [
       "   value report_period_begin            region_name report_period_end\n",
       "0    971          2009-01-01            Ненецкий АО        2009-12-01\n",
       "1  37372          2009-01-01    Ханты-Мансийский АО        2009-12-01\n",
       "2  10052          2009-01-01      Ямало-Ненецкий АО        2009-12-01\n",
       "3  25750          2009-01-01  Архангельская область        2009-12-01\n",
       "4  40325          2009-01-01      Тюменская область        2009-12-01"
      ]
     },
     "execution_count": 174,
     "metadata": {},
     "output_type": "execute_result"
    }
   ],
   "source": [
    "out_df.head()"
   ]
  },
  {
   "cell_type": "code",
   "execution_count": 175,
   "metadata": {},
   "outputs": [
    {
     "data": {
      "text/plain": [
       "value                           int32\n",
       "report_period_begin    datetime64[ns]\n",
       "region_name                    object\n",
       "report_period_end      datetime64[ns]\n",
       "dtype: object"
      ]
     },
     "execution_count": 175,
     "metadata": {},
     "output_type": "execute_result"
    }
   ],
   "source": [
    "# Correct datatypes\n",
    "out_df.value = out_df.value.astype('int')\n",
    "out_df.report_period_begin = out_df.report_period_begin.astype('datetime64[ns]')\n",
    "out_df.report_period_end = out_df.report_period_end.astype('datetime64[ns]')\n",
    "out_df.dtypes"
   ]
  },
  {
   "cell_type": "code",
   "execution_count": 180,
   "metadata": {},
   "outputs": [],
   "source": [
    "# Filter out 2020 (Not finished year) and 2009()\n",
    "out_df = out_df.where(out_df.report_period_begin.dt.year < 2020).dropna()\n",
    "out_df = out_df.where(out_df.report_period_begin.dt.year > 2009).dropna()"
   ]
  },
  {
   "cell_type": "code",
   "execution_count": 181,
   "metadata": {},
   "outputs": [],
   "source": [
    "sum_crime = out_df.groupby(by = 'report_period_begin').sum()"
   ]
  },
  {
   "cell_type": "code",
   "execution_count": 195,
   "metadata": {},
   "outputs": [
    {
     "data": {
      "text/html": [
       "<div>\n",
       "<style scoped>\n",
       "    .dataframe tbody tr th:only-of-type {\n",
       "        vertical-align: middle;\n",
       "    }\n",
       "\n",
       "    .dataframe tbody tr th {\n",
       "        vertical-align: top;\n",
       "    }\n",
       "\n",
       "    .dataframe thead th {\n",
       "        text-align: right;\n",
       "    }\n",
       "</style>\n",
       "<table border=\"1\" class=\"dataframe\">\n",
       "  <thead>\n",
       "    <tr style=\"text-align: right;\">\n",
       "      <th></th>\n",
       "      <th>value</th>\n",
       "    </tr>\n",
       "    <tr>\n",
       "      <th>region_name</th>\n",
       "      <th></th>\n",
       "    </tr>\n",
       "  </thead>\n",
       "  <tbody>\n",
       "    <tr>\n",
       "      <th>Ненецкий АО</th>\n",
       "      <td>47332.0</td>\n",
       "    </tr>\n",
       "    <tr>\n",
       "      <th>Чукотский АО</th>\n",
       "      <td>51204.0</td>\n",
       "    </tr>\n",
       "    <tr>\n",
       "      <th>Республика Ингушетия</th>\n",
       "      <td>115207.0</td>\n",
       "    </tr>\n",
       "    <tr>\n",
       "      <th>Магаданская область</th>\n",
       "      <td>207194.0</td>\n",
       "    </tr>\n",
       "    <tr>\n",
       "      <th>г. Севастополь</th>\n",
       "      <td>210368.0</td>\n",
       "    </tr>\n",
       "    <tr>\n",
       "      <th>...</th>\n",
       "      <td>...</td>\n",
       "    </tr>\n",
       "    <tr>\n",
       "      <th>Уральский ФО</th>\n",
       "      <td>14510433.0</td>\n",
       "    </tr>\n",
       "    <tr>\n",
       "      <th>Сибирский ФО</th>\n",
       "      <td>25234765.0</td>\n",
       "    </tr>\n",
       "    <tr>\n",
       "      <th>Приволжский ФО</th>\n",
       "      <td>28513899.0</td>\n",
       "    </tr>\n",
       "    <tr>\n",
       "      <th>Центральный ФО</th>\n",
       "      <td>34068432.0</td>\n",
       "    </tr>\n",
       "    <tr>\n",
       "      <th>Российская Федерация</th>\n",
       "      <td>146371411.0</td>\n",
       "    </tr>\n",
       "  </tbody>\n",
       "</table>\n",
       "<p>95 rows × 1 columns</p>\n",
       "</div>"
      ],
      "text/plain": [
       "                            value\n",
       "region_name                      \n",
       "Ненецкий АО               47332.0\n",
       "Чукотский АО              51204.0\n",
       "Республика Ингушетия     115207.0\n",
       "Магаданская область      207194.0\n",
       "г. Севастополь           210368.0\n",
       "...                           ...\n",
       "Уральский ФО           14510433.0\n",
       "Сибирский ФО           25234765.0\n",
       "Приволжский ФО         28513899.0\n",
       "Центральный ФО         34068432.0\n",
       "Российская Федерация  146371411.0\n",
       "\n",
       "[95 rows x 1 columns]"
      ]
     },
     "execution_count": 195,
     "metadata": {},
     "output_type": "execute_result"
    }
   ],
   "source": [
    "crimes_by_region = out_df.groupby(by = 'region_name').sum()\n",
    "crimes_by_region.sort_values(by = 'value')"
   ]
  },
  {
   "cell_type": "code",
   "execution_count": 182,
   "metadata": {},
   "outputs": [
    {
     "data": {
      "text/html": [
       "<div>\n",
       "<style scoped>\n",
       "    .dataframe tbody tr th:only-of-type {\n",
       "        vertical-align: middle;\n",
       "    }\n",
       "\n",
       "    .dataframe tbody tr th {\n",
       "        vertical-align: top;\n",
       "    }\n",
       "\n",
       "    .dataframe thead th {\n",
       "        text-align: right;\n",
       "    }\n",
       "</style>\n",
       "<table border=\"1\" class=\"dataframe\">\n",
       "  <thead>\n",
       "    <tr style=\"text-align: right;\">\n",
       "      <th></th>\n",
       "      <th>value</th>\n",
       "    </tr>\n",
       "    <tr>\n",
       "      <th>report_period_begin</th>\n",
       "      <th></th>\n",
       "    </tr>\n",
       "  </thead>\n",
       "  <tbody>\n",
       "    <tr>\n",
       "      <th>2010-01-01</th>\n",
       "      <td>51436550.0</td>\n",
       "    </tr>\n",
       "    <tr>\n",
       "      <th>2011-01-01</th>\n",
       "      <td>46800660.0</td>\n",
       "    </tr>\n",
       "    <tr>\n",
       "      <th>2012-01-01</th>\n",
       "      <td>44388619.0</td>\n",
       "    </tr>\n",
       "    <tr>\n",
       "      <th>2013-01-01</th>\n",
       "      <td>42665562.0</td>\n",
       "    </tr>\n",
       "    <tr>\n",
       "      <th>2014-01-01</th>\n",
       "      <td>41954583.0</td>\n",
       "    </tr>\n",
       "    <tr>\n",
       "      <th>2015-01-01</th>\n",
       "      <td>44841957.0</td>\n",
       "    </tr>\n",
       "    <tr>\n",
       "      <th>2016-01-01</th>\n",
       "      <td>43282876.0</td>\n",
       "    </tr>\n",
       "    <tr>\n",
       "      <th>2017-01-01</th>\n",
       "      <td>39662050.0</td>\n",
       "    </tr>\n",
       "    <tr>\n",
       "      <th>2018-01-01</th>\n",
       "      <td>38183190.0</td>\n",
       "    </tr>\n",
       "    <tr>\n",
       "      <th>2019-01-01</th>\n",
       "      <td>38811440.0</td>\n",
       "    </tr>\n",
       "  </tbody>\n",
       "</table>\n",
       "</div>"
      ],
      "text/plain": [
       "                          value\n",
       "report_period_begin            \n",
       "2010-01-01           51436550.0\n",
       "2011-01-01           46800660.0\n",
       "2012-01-01           44388619.0\n",
       "2013-01-01           42665562.0\n",
       "2014-01-01           41954583.0\n",
       "2015-01-01           44841957.0\n",
       "2016-01-01           43282876.0\n",
       "2017-01-01           39662050.0\n",
       "2018-01-01           38183190.0\n",
       "2019-01-01           38811440.0"
      ]
     },
     "execution_count": 182,
     "metadata": {},
     "output_type": "execute_result"
    }
   ],
   "source": [
    "sum_crime"
   ]
  },
  {
   "cell_type": "code",
   "execution_count": 184,
   "metadata": {},
   "outputs": [
    {
     "data": {
      "text/plain": [
       "Text(0.5, 1.0, 'Total number of crimes')"
      ]
     },
     "execution_count": 184,
     "metadata": {},
     "output_type": "execute_result"
    },
    {
     "data": {
      "image/png": "[encoded data removed]",
      "text/plain": [
       "<Figure size 432x288 with 1 Axes>"
      ]
     },
     "metadata": {
      "needs_background": "light"
     },
     "output_type": "display_data"
    }
   ],
   "source": [
    "import matplotlib.pyplot as plt \n",
    "plt.plot(sum_crime.index,sum_crime.value,'o--')\n",
    "plt.title('Total number of crimes')"
   ]
  },
  {
   "cell_type": "code",
   "execution_count": 147,
   "metadata": {},
   "outputs": [
    {
     "name": "stdout",
     "output_type": "stream",
     "text": [
      "<class 'pandas.core.frame.DataFrame'>\n",
      "RangeIndex: 11513 entries, 0 to 11512\n",
      "Data columns (total 4 columns):\n",
      "value                  11513 non-null object\n",
      "report_period_begin    11513 non-null object\n",
      "region_name            11513 non-null object\n",
      "report_period_end      11513 non-null object\n",
      "dtypes: object(4)\n",
      "memory usage: 359.9+ KB\n"
     ]
    }
   ],
   "source": [
    "out_df.info()"
   ]
  },
  {
   "cell_type": "code",
   "execution_count": 149,
   "metadata": {},
   "outputs": [
    {
     "data": {
      "text/plain": [
       "28       24922\n",
       "120       1626\n",
       "212       3390\n",
       "304       5587\n",
       "396       7500\n",
       "         ...  \n",
       "11073    14702\n",
       "11167    15971\n",
       "11261    17101\n",
       "11355     1518\n",
       "11449     2913\n",
       "Name: value, Length: 123, dtype: object"
      ]
     },
     "execution_count": 149,
     "metadata": {},
     "output_type": "execute_result"
    }
   ],
   "source": [
    "# Get only Kurgan data\n",
    "Kurgan = out_df.where(out_df.region_name == 'Курганская область').dropna()\n",
    "Kurgan.value"
   ]
  },
  {
   "cell_type": "code",
   "execution_count": 197,
   "metadata": {},
   "outputs": [
    {
     "data": {
      "text/html": [
       "<div>\n",
       "<style scoped>\n",
       "    .dataframe tbody tr th:only-of-type {\n",
       "        vertical-align: middle;\n",
       "    }\n",
       "\n",
       "    .dataframe tbody tr th {\n",
       "        vertical-align: top;\n",
       "    }\n",
       "\n",
       "    .dataframe thead th {\n",
       "        text-align: right;\n",
       "    }\n",
       "</style>\n",
       "<table border=\"1\" class=\"dataframe\">\n",
       "  <thead>\n",
       "    <tr style=\"text-align: right;\">\n",
       "      <th></th>\n",
       "      <th>value</th>\n",
       "    </tr>\n",
       "    <tr>\n",
       "      <th>report_period_begin</th>\n",
       "      <th></th>\n",
       "    </tr>\n",
       "  </thead>\n",
       "  <tbody>\n",
       "    <tr>\n",
       "      <th>2010-01-01</th>\n",
       "      <td>151473.0</td>\n",
       "    </tr>\n",
       "    <tr>\n",
       "      <th>2011-01-01</th>\n",
       "      <td>143423.0</td>\n",
       "    </tr>\n",
       "    <tr>\n",
       "      <th>2012-01-01</th>\n",
       "      <td>130802.0</td>\n",
       "    </tr>\n",
       "    <tr>\n",
       "      <th>2013-01-01</th>\n",
       "      <td>124117.0</td>\n",
       "    </tr>\n",
       "    <tr>\n",
       "      <th>2014-01-01</th>\n",
       "      <td>128236.0</td>\n",
       "    </tr>\n",
       "    <tr>\n",
       "      <th>2015-01-01</th>\n",
       "      <td>143975.0</td>\n",
       "    </tr>\n",
       "    <tr>\n",
       "      <th>2016-01-01</th>\n",
       "      <td>131162.0</td>\n",
       "    </tr>\n",
       "    <tr>\n",
       "      <th>2017-01-01</th>\n",
       "      <td>116813.0</td>\n",
       "    </tr>\n",
       "    <tr>\n",
       "      <th>2018-01-01</th>\n",
       "      <td>114947.0</td>\n",
       "    </tr>\n",
       "    <tr>\n",
       "      <th>2019-01-01</th>\n",
       "      <td>113855.0</td>\n",
       "    </tr>\n",
       "  </tbody>\n",
       "</table>\n",
       "</div>"
      ],
      "text/plain": [
       "                        value\n",
       "report_period_begin          \n",
       "2010-01-01           151473.0\n",
       "2011-01-01           143423.0\n",
       "2012-01-01           130802.0\n",
       "2013-01-01           124117.0\n",
       "2014-01-01           128236.0\n",
       "2015-01-01           143975.0\n",
       "2016-01-01           131162.0\n",
       "2017-01-01           116813.0\n",
       "2018-01-01           114947.0\n",
       "2019-01-01           113855.0"
      ]
     },
     "execution_count": 197,
     "metadata": {},
     "output_type": "execute_result"
    }
   ],
   "source": [
    "f = Kurgan.groupby(by = 'report_period_begin').sum()\n",
    "f"
   ]
  },
  {
   "cell_type": "code",
   "execution_count": 198,
   "metadata": {},
   "outputs": [
    {
     "data": {
      "text/plain": [
       "[<matplotlib.lines.Line2D at 0x271e505ec88>]"
      ]
     },
     "execution_count": 198,
     "metadata": {},
     "output_type": "execute_result"
    },
    {
     "data": {
      "image/png": "[encoded data removed]",
      "text/plain": [
       "<Figure size 432x288 with 1 Axes>"
      ]
     },
     "metadata": {
      "needs_background": "light"
     },
     "output_type": "display_data"
    }
   ],
   "source": [
    "import matplotlib.pyplot as plt \n",
    "plt.plot(f.index,f.value,'o--')"
   ]
  },
  {
   "cell_type": "code",
   "execution_count": null,
   "metadata": {},
   "outputs": [],
   "source": []
  },
  {
   "cell_type": "code",
   "execution_count": null,
   "metadata": {},
   "outputs": [],
   "source": []
  }
 ],
 "metadata": {
  "kernelspec": {
   "display_name": "Python 3",
   "language": "python",
   "name": "python3"
  },
  "language_info": {
   "codemirror_mode": {
    "name": "ipython",
    "version": 3
   },
   "file_extension": ".py",
   "mimetype": "text/x-python",
   "name": "python",
   "nbconvert_exporter": "python",
   "pygments_lexer": "ipython3",
   "version": "3.7.3"
  }
 },
 "nbformat": 4,
 "nbformat_minor": 4
}
